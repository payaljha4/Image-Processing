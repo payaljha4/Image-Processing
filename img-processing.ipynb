{
 "cells": [
  {
   "cell_type": "code",
   "execution_count": 2,
   "metadata": {},
   "outputs": [],
   "source": [
    "import cv2"
   ]
  },
  {
   "cell_type": "code",
   "execution_count": 3,
   "metadata": {},
   "outputs": [],
   "source": [
    "photo=cv2.imread('Payal.jpg')"
   ]
  },
  {
   "cell_type": "code",
   "execution_count": 4,
   "metadata": {},
   "outputs": [],
   "source": [
    "cv2.imshow('Me', photo)\n",
    "cv2.waitKey()\n",
    "cv2.destroyAllWindows()"
   ]
  },
  {
   "cell_type": "code",
   "execution_count": 5,
   "metadata": {},
   "outputs": [
    {
     "data": {
      "text/plain": [
       "(593, 443, 3)"
      ]
     },
     "execution_count": 5,
     "metadata": {},
     "output_type": "execute_result"
    }
   ],
   "source": [
    "photo.shape"
   ]
  },
  {
   "cell_type": "code",
   "execution_count": 6,
   "metadata": {},
   "outputs": [
    {
     "data": {
      "text/plain": [
       "array([[[156, 150, 131],\n",
       "        [142, 141, 127],\n",
       "        [126, 128, 122],\n",
       "        ...,\n",
       "        [117, 118, 116],\n",
       "        [136, 136, 136],\n",
       "        [130, 134, 135]],\n",
       "\n",
       "       [[154, 147, 127],\n",
       "        [137, 136, 122],\n",
       "        [151, 153, 147],\n",
       "        ...,\n",
       "        [109, 110, 108],\n",
       "        [127, 129, 129],\n",
       "        [126, 130, 131]],\n",
       "\n",
       "       [[165, 158, 138],\n",
       "        [104, 101,  87],\n",
       "        [112, 116, 111],\n",
       "        ...,\n",
       "        [111, 112, 110],\n",
       "        [127, 129, 129],\n",
       "        [128, 132, 133]],\n",
       "\n",
       "       ...,\n",
       "\n",
       "       [[210, 218, 218],\n",
       "        [207, 215, 215],\n",
       "        [202, 210, 210],\n",
       "        ...,\n",
       "        [110, 125, 117],\n",
       "        [158, 173, 165],\n",
       "        [195, 210, 202]],\n",
       "\n",
       "       [[210, 218, 218],\n",
       "        [208, 216, 216],\n",
       "        [214, 222, 222],\n",
       "        ...,\n",
       "        [174, 191, 182],\n",
       "        [109, 126, 117],\n",
       "        [175, 192, 183]],\n",
       "\n",
       "       [[203, 213, 213],\n",
       "        [201, 211, 211],\n",
       "        [205, 215, 215],\n",
       "        ...,\n",
       "        [197, 214, 205],\n",
       "        [162, 179, 170],\n",
       "        [116, 133, 124]]], dtype=uint8)"
      ]
     },
     "execution_count": 6,
     "metadata": {},
     "output_type": "execute_result"
    }
   ],
   "source": [
    "photo"
   ]
  },
  {
   "cell_type": "code",
   "execution_count": 9,
   "metadata": {},
   "outputs": [],
   "source": [
    "newphoto = cv2.cvtColor( photo , cv2.COLOR_BGR2GRAY )"
   ]
  },
  {
   "cell_type": "code",
   "execution_count": 11,
   "metadata": {},
   "outputs": [],
   "source": [
    "cv2.imshow('Me', newphoto)\n",
    "cv2.waitKey()\n",
    "cv2.destroyAllWindows()"
   ]
  },
  {
   "cell_type": "code",
   "execution_count": 12,
   "metadata": {},
   "outputs": [
    {
     "data": {
      "text/plain": [
       "(593, 443)"
      ]
     },
     "execution_count": 12,
     "metadata": {},
     "output_type": "execute_result"
    }
   ],
   "source": [
    "newphoto.shape"
   ]
  },
  {
   "cell_type": "code",
   "execution_count": 13,
   "metadata": {},
   "outputs": [
    {
     "data": {
      "text/plain": [
       "array([[145, 137, 126, ..., 117, 136, 134],\n",
       "       [142, 132, 151, ..., 109, 129, 130],\n",
       "       [153,  97, 114, ..., 111, 129, 132],\n",
       "       ...,\n",
       "       [217, 214, 209, ..., 121, 169, 206],\n",
       "       [217, 215, 221, ..., 186, 121, 187],\n",
       "       [212, 210, 214, ..., 209, 174, 128]], dtype=uint8)"
      ]
     },
     "execution_count": 13,
     "metadata": {},
     "output_type": "execute_result"
    }
   ],
   "source": [
    "newphoto"
   ]
  },
  {
   "cell_type": "code",
   "execution_count": 26,
   "metadata": {},
   "outputs": [],
   "source": [
    "cphoto=newphoto[250:380,150:280]"
   ]
  },
  {
   "cell_type": "code",
   "execution_count": 28,
   "metadata": {},
   "outputs": [],
   "source": [
    "cv2.imshow('Me', cphoto)\n",
    "cv2.waitKey()\n",
    "cv2.destroyAllWindows()"
   ]
  },
  {
   "cell_type": "code",
   "execution_count": 14,
   "metadata": {},
   "outputs": [],
   "source": [
    "import numpy as np"
   ]
  },
  {
   "cell_type": "code",
   "execution_count": 15,
   "metadata": {},
   "outputs": [],
   "source": [
    "c=np.zeros((200,200))+0"
   ]
  },
  {
   "cell_type": "code",
   "execution_count": 20,
   "metadata": {},
   "outputs": [],
   "source": [
    "cv2.imshow('Me', photo)\n",
    "cv2.waitKey()\n",
    "cv2.destroyAllWindows()"
   ]
  },
  {
   "cell_type": "code",
   "execution_count": 21,
   "metadata": {},
   "outputs": [
    {
     "data": {
      "text/plain": [
       "array([[0., 0., 0., ..., 0., 0., 0.],\n",
       "       [0., 0., 0., ..., 0., 0., 0.],\n",
       "       [0., 0., 0., ..., 0., 0., 0.],\n",
       "       ...,\n",
       "       [0., 0., 0., ..., 0., 0., 0.],\n",
       "       [0., 0., 0., ..., 0., 0., 0.],\n",
       "       [0., 0., 0., ..., 0., 0., 0.]])"
      ]
     },
     "execution_count": 21,
     "metadata": {},
     "output_type": "execute_result"
    }
   ],
   "source": [
    "c"
   ]
  },
  {
   "cell_type": "code",
   "execution_count": 19,
   "metadata": {},
   "outputs": [],
   "source": []
  },
  {
   "cell_type": "code",
   "execution_count": null,
   "metadata": {},
   "outputs": [],
   "source": []
  }
 ],
 "metadata": {
  "kernelspec": {
   "display_name": "Python 3",
   "language": "python",
   "name": "python3"
  },
  "language_info": {
   "codemirror_mode": {
    "name": "ipython",
    "version": 3
   },
   "file_extension": ".py",
   "mimetype": "text/x-python",
   "name": "python",
   "nbconvert_exporter": "python",
   "pygments_lexer": "ipython3",
   "version": "3.8.2"
  }
 },
 "nbformat": 4,
 "nbformat_minor": 4
}
